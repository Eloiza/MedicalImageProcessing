{
 "cells": [
  {
   "cell_type": "markdown",
   "metadata": {},
   "source": [
    "# <font color = green> PROCESSAMENTO DE IMAGENS BIOMÉDICAS </font>"
   ]
  },
  {
   "cell_type": "code",
   "execution_count": 70,
   "metadata": {},
   "outputs": [],
   "source": [
    "import matplotlib.pyplot as plt\n",
    "import pydicom\n",
    "from pydicom.data import get_testdata_files\n",
    "from pydicom.data.data_manager import get_files\n",
    "import glob\n",
    "import cv2"
   ]
  },
  {
   "cell_type": "markdown",
   "metadata": {},
   "source": [
    "## <font color = green> TESTANDO A LIB PYDICOM </font>"
   ]
  },
  {
   "cell_type": "code",
   "execution_count": null,
   "metadata": {},
   "outputs": [],
   "source": [
    "# Para abrir apenas uma imagem DICOM, podemos utilizar o get_files \n",
    "path = \"CINTILOGRAFIAS/BMT/P1A\"\n",
    "dicom = \"D405923.dcm\"\n",
    "filename = get_files(path, dicom)[0]"
   ]
  },
  {
   "cell_type": "code",
   "execution_count": null,
   "metadata": {},
   "outputs": [],
   "source": [
    "# Le e retorna um dataset\n",
    "ds = pydicom.dcmread(filename)"
   ]
  },
  {
   "cell_type": "code",
   "execution_count": null,
   "metadata": {},
   "outputs": [],
   "source": [
    "ds.PatientName"
   ]
  },
  {
   "cell_type": "code",
   "execution_count": 80,
   "metadata": {},
   "outputs": [
    {
     "data": {
      "text/plain": [
       "Dataset.file_meta -------------------------------\n",
       "(0002, 0000) File Meta Information Group Length  UL: 194\n",
       "(0002, 0001) File Meta Information Version       OB: b'\\x00\\x01'\n",
       "(0002, 0002) Media Storage SOP Class UID         UI: Nuclear Medicine Image Storage\n",
       "(0002, 0003) Media Storage SOP Instance UID      UI: 1.2.840.113619.2.280.2.1.21082021074514281.44798919\n",
       "(0002, 0010) Transfer Syntax UID                 UI: Explicit VR Little Endian\n",
       "(0002, 0012) Implementation Class UID            UI: 1.2.840.114080.1.0.2\n",
       "(0002, 0013) Implementation Version Name         SH: 'DCM_V2'\n",
       "(0002, 0016) Source Application Entity Title     AE: 'gdcmanon'\n",
       "-------------------------------------------------\n",
       "(0008, 0000) Group Length                        UL: 634\n",
       "(0008, 0005) Specific Character Set              CS: 'ISO_IR 100'\n",
       "(0008, 0008) Image Type                          CS: ['ORIGINAL', 'PRIMARY', 'STATIC', 'EMISSION']\n",
       "(0008, 0016) SOP Class UID                       UI: Nuclear Medicine Image Storage\n",
       "(0008, 0018) SOP Instance UID                    UI: 1.2.840.113619.2.280.2.1.21082021074514281.44798919\n",
       "(0008, 0020) Study Date                          DA: '20210821'\n",
       "(0008, 0022) Acquisition Date                    DA: '20210821'\n",
       "(0008, 0023) Content Date                        DA: '20210821'\n",
       "(0008, 0030) Study Time                          TM: '073458'\n",
       "(0008, 0032) Acquisition Time                    TM: '074611'\n",
       "(0008, 0033) Content Time                        TM: '074611'\n",
       "(0008, 0050) Accession Number                    SH: ''\n",
       "(0008, 0060) Modality                            CS: 'NM'\n",
       "(0008, 0070) Manufacturer                        LO: 'GE MEDICAL SYSTEMS'\n",
       "(0008, 0080) Institution Name                    LO: 'Quanta Medicina Nuclear Alto da XV'\n",
       "(0008, 0081) Institution Address                 ST: 'Rua Almirante Tamandare 1000'\n",
       "(0008, 0090) Referring Physician's Name          PN: ''\n",
       "(0008, 1010) Station Name                        SH: 'Brivo NM 615'\n",
       "(0008, 1030) Study Description                   LO: 'TIREOIDE TC'\n",
       "(0008, 103e) Series Description                  LO: 'ANTERIOR'\n",
       "(0008, 1040) Institutional Department Name       LO: 'Medicina Nuclear'\n",
       "(0008, 1050) Performing Physician's Name         PN: ''\n",
       "(0008, 1060) Name of Physician(s) Reading Study  PN: ''\n",
       "(0008, 1070) Operators' Name                     PN: ''\n",
       "(0008, 1080) Admitting Diagnoses Description     LO: ''\n",
       "(0008, 1090) Manufacturer's Model Name           LO: 'Tandem_Brivo_615'\n",
       "(0008, 1111)  Referenced Performed Procedure Step Sequence  1 item(s) ---- \n",
       "   (0008, 0000) Group Length                        UL: 94\n",
       "   (0008, 1150) Referenced SOP Class UID            UI: Modality Performed Procedure Step SOP Class\n",
       "   (0008, 1155) Referenced SOP Instance UID         UI: 1.2.840.113619.2.280.2.1.21082021073458973.1893098259\n",
       "   ---------\n",
       "(0009, 0000) Private Creator                     UL: 348\n",
       "(0009, 0010) Private tag data                    LO: 'QUASAR_INTERNAL_USE'\n",
       "(0009, 1001) [Rate Vector]                       UL: 6892\n",
       "(0009, 1002) [Count Vector]                      UL: 500005\n",
       "(0009, 1003) [Time Vector]                       UL: 71322\n",
       "(0009, 1008) [Camera Shape]                      US: 0\n",
       "(0009, 1012) [Unknown]                           LO: 'regular'\n",
       "(0009, 1013) [Sequence Type]                     ST: 'BasicStatic'\n",
       "(0009, 1014) [Sequence Name]                     ST: 'ANTERIOR'\n",
       "(0009, 101b) [Image Type String]                 LO: 'static'\n",
       "(0009, 101d) [Unknown]                           US: 0\n",
       "(0009, 101e) [Unknown]                           ST: 'Miscellaneous;Thyroid Uptake Index;1;QScript.ThyroidUptake;0'\n",
       "(0009, 1039) [Unknown]                           UI: 1.2.840.113619.2.280.2.1.21082021073458983.519635378\n",
       "(0009, 1040) [Unknown]                           DA: '20210821'\n",
       "(0009, 1041) [Unknown]                           TM: '073458'\n",
       "(0009, 1042) [Unknown]                           LO: 'acquired'\n",
       "(0009, 1044) [Unknown]                           SH: ''\n",
       "(0009, 1045) Private tag data                    LO: ''\n",
       "(0009, 1048) Private tag data                    LO: ''\n",
       "(0010, 0000) Group Length                        UL: 122\n",
       "(0010, 0010) Patient's Name                      PN: ''\n",
       "(0010, 0020) Patient ID                          LO: ''\n",
       "(0010, 0030) Patient's Birth Date                DA: '19660408'\n",
       "(0010, 1020) Patient's Size                      DS: None\n",
       "(0010, 1030) Patient's Weight                    DS: '10.0'\n",
       "(0010, 2110) Allergies                           LO: ''\n",
       "(0010, 21c0) Pregnancy Status                    US: 4\n",
       "(0011, 0000) Private Creator                     UL: 62\n",
       "(0011, 0010) Private tag data                    LO: 'GEMS_GENIE_1'\n",
       "(0011, 100d) [Radio Nuclide Name]                LO: 'Tc99m'\n",
       "(0011, 1012) [Dataset Name]                      LO: 'ANTERIOR'\n",
       "(0011, 1015) [Detector Number]                   SL: 0\n",
       "(0013, 0000) Private Creator                     UL: 32\n",
       "(0013, 0010) Private tag data                    LO: 'GEMS_GENIE_1'\n",
       "(0013, 1011) [Source Translator]                 SL: 11\n",
       "(0018, 0000) Group Length                        UL: 272\n",
       "(0018, 0015) Body Part Examined                  CS: 'NECK'\n",
       "(0018, 0026)  Intervention Drug Information Sequence  0 item(s) ---- \n",
       "(0018, 0070) Counts Accumulated                  IS: '500005'\n",
       "(0018, 0071) Acquisition Termination Condition   CS: 'TIME'\n",
       "(0018, 1000) Device Serial Number                LO: '615W24079'\n",
       "(0018, 1020) Software Versions                   LO: ['1.003.042.15', 'HARDWARE_VERSION_1']\n",
       "(0018, 1030) Protocol Name                       LO: 'User&ENDOCRINO&TIREOIDE TC'\n",
       "(0018, 1050) Spatial Resolution                  DS: '5.0'\n",
       "(0018, 1130) Table Height                        DS: '872.0'\n",
       "(0018, 1131) Table Traverse                      DS: '606.0'\n",
       "(0018, 1200) Date of Last Calibration            DA: '20201120'\n",
       "(0018, 1201) Time of Last Calibration            TM: '152919'\n",
       "(0018, 1242) Actual Frame Duration               IS: '71322'\n",
       "(0018, 1243) Count Rate                          IS: '7205'\n",
       "(0018, 5100) Patient Position                    CS: 'HFS'\n",
       "(0020, 0000) Group Length                        UL: 188\n",
       "(0020, 000d) Study Instance UID                  UI: 1.2.840.113619.2.280.2.1.21082021071937533.220435556\n",
       "(0020, 000e) Series Instance UID                 UI: 1.2.840.113619.2.280.2.1.21082021074514694.1652731794\n",
       "(0020, 0010) Study ID                            SH: 'TIREOIDE TC'\n",
       "(0020, 0011) Series Number                       IS: '1'\n",
       "(0020, 0013) Instance Number                     IS: None\n",
       "(0020, 4000) Image Comments                      LT: Array of 19 elements\n",
       "(0027, 0000) Private Creator                     UL: 32\n",
       "(0027, 0010) Private tag data                    LO: 'APEX_PRIVATE'\n",
       "(0027, 1011) [Bed Position]                      DS: '60.6'\n",
       "(0028, 0000) Group Length                        UL: 238\n",
       "(0028, 0002) Samples per Pixel                   US: 1\n",
       "(0028, 0004) Photometric Interpretation          CS: 'MONOCHROME2'\n",
       "(0028, 0008) Number of Frames                    IS: '1'\n",
       "(0028, 0009) Frame Increment Pointer             AT: [(0054, 0010), (0054, 0020)]\n",
       "(0028, 0010) Rows                                US: 128\n",
       "(0028, 0011) Columns                             US: 128\n",
       "(0028, 0030) Pixel Spacing                       DS: [2.209800, 2.209800]\n",
       "(0028, 0051) Corrected Image                     CS: ['NRGY', 'UNIF']\n",
       "(0028, 0100) Bits Allocated                      US: 16\n",
       "(0028, 0101) Bits Stored                         US: 16\n",
       "(0028, 0102) High Bit                            US: 15\n",
       "(0028, 0103) Pixel Representation                US: 0\n",
       "(0028, 0106) Smallest Image Pixel Value          US: 0\n",
       "(0028, 0107) Largest Image Pixel Value           US: 543\n",
       "(0028, 0300) Quality Control Image               CS: 'NO'\n",
       "(0028, 1050) Window Center                       DS: '271.0'\n",
       "(0028, 1051) Window Width                        DS: '543.0'\n",
       "(0033, 0000) Private Creator                     UL: 574\n",
       "(0033, 0010) Private tag data                    LO: 'GEMS_XELPRV_01'\n",
       "(0033, 1070)  [SeriesdataSQ]  1 item(s) ---- \n",
       "   (0033, 0000) Private Creator                     UL: 520\n",
       "   (0033, 0010) Private tag data                    LO: 'GEMS_XELPRV_01'\n",
       "   (0033, 1008) [Object Type]                       CS: 'SERIES DATA'\n",
       "   (0033, 1010) [Modified]                          SL: 0\n",
       "   (0033, 1011) [Name]                              LO: 'XELERIS_APPS'\n",
       "   (0033, 1016) [ProtocolDataUID]                   LO: '1.2.840.113619.2.280.2.1.21082021074514711.1343926414'\n",
       "   (0033, 1017) [Date]                              SH: '20210821'\n",
       "   (0033, 1018) [Time]                              SH: '074514'\n",
       "   (0033, 1019) [ProtocoldataFlags]                 UL: 0\n",
       "   (0033, 101a) [ProtocolName]                      LO: 'Tandem_Brivo_615'\n",
       "   (0033, 101b) [StudyId]                           LO: ''\n",
       "   (0033, 101d) [IntData]                           SL: None\n",
       "   (0033, 101f) [StringData]                        OB: Array of 102 elements\n",
       "   (0033, 1021) [IntDataFormat]                     OB: None\n",
       "   (0033, 1023) [StringDataFormat]                  OB: b'Active_apps\\\\4\\x00'\n",
       "   (0033, 1024) [Description]                       LT: Array of 51 elements\n",
       "   (0033, 1071) [SDOSOPClassUID]                    UI: 1.2.840.113619.4.17\n",
       "   (0033, 1072) [SDOSOPInstanceUID]                 UI: 1.2.840.113619.2.280.2.1.21082021074514711.1343926414\n",
       "   ---------\n",
       "(0037, 0000) Private Creator                     UL: 232\n",
       "(0037, 0010) Private tag data                    LO: 'QUASAR_INTERNAL_USE'\n",
       "(0037, 1010)  [Unknown]  1 item(s) ---- \n",
       "   (0037, 0000) Private Creator                     UL: 100\n",
       "   (0037, 0010) Private tag data                    LO: 'QUASAR_INTERNAL_USE'\n",
       "   (0037, 101b) [Unknown]                           LO: '1.5'\n",
       "   (0037, 1030) [Unknown]                           LO: '35'\n",
       "   (0037, 1040) [Unknown]                           LO: '17.025'\n",
       "   (0037, 1050) [Unknown]                           LO: '0.2'\n",
       "   (0037, 1060) [Unknown]                           LO: '3.8'\n",
       "   (0037, 1070) [Unknown]                           LO: '0.9'\n",
       "   ---------\n",
       "(0037, 1071) Private tag data                    FD: 0.0\n",
       "(0037, 1072) Private tag data                    SH: 'false'\n",
       "(0037, 1073) Private tag data                    FD: 606.0\n",
       "(0037, 1078) Private tag data                    FD: 0.0\n",
       "(0037, 1090) Private tag data                    IS: '1'\n",
       "(0040, 0000) Group Length                        UL: 92\n",
       "(0040, 0244) Performed Procedure Step Start Date DA: '20210821'\n",
       "(0040, 0245) Performed Procedure Step Start Time TM: '074514'\n",
       "(0040, 0253) Performed Procedure Step ID         SH: 'L_1'\n",
       "(0040, 0254) Performed Procedure Step Descriptio LO: 'User&ENDOCRINO&TIREOIDE TC'\n",
       "(0040, 0280) Comments on the Performed Procedure ST: ''\n",
       "(0040, 1400) Requested Procedure Comments        LT: ''\n",
       "(0054, 0000) Group Length                        UL: 690\n",
       "(0054, 0010) Energy Window Vector                US: 1\n",
       "(0054, 0011) Number of Energy Windows            US: 1\n",
       "(0054, 0012)  Energy Window Information Sequence  1 item(s) ---- \n",
       "   (0054, 0000) Group Length                        UL: 76\n",
       "   (0054, 0013)  Energy Window Range Sequence  1 item(s) ---- \n",
       "      (0054, 0000) Group Length                        UL: 28\n",
       "      (0054, 0014) Energy Window Lower Limit           DS: '126.45'\n",
       "      (0054, 0015) Energy Window Upper Limit           DS: '154.55'\n",
       "      ---------\n",
       "   (0054, 0018) Energy Window Name                  SH: 'Tc99m_EM'\n",
       "   ---------\n",
       "(0054, 0016)  Radiopharmaceutical Information Sequence  1 item(s) ---- \n",
       "   (0054, 0000) Group Length                        UL: 12\n",
       "   (0054, 0300)  Radionuclide Code Sequence  0 item(s) ---- \n",
       "   ---------\n",
       "(0054, 0020) Detector Vector                     US: 1\n",
       "(0054, 0021) Number of Detectors                 US: 1\n",
       "(0054, 0022)  Detector Information Sequence  1 item(s) ---- \n",
       "   (0018, 0000) Group Length                        UL: 44\n",
       "   (0018, 1180) Collimator/grid Name                SH: 'LEHR'\n",
       "   (0018, 1181) Collimator Type                     CS: 'PARA'\n",
       "   (0018, 1182) Focal Distance                      IS: '0'\n",
       "   (0020, 0000) Group Length                        UL: 52\n",
       "   (0020, 0032) Image Position (Patient)            DS: [-140.322300, -140.322300, -465.677700]\n",
       "   (0020, 0037) Image Orientation (Patient)         DS: None\n",
       "   (0028, 0000) Group Length                        UL: 52\n",
       "   (0028, 0031) Zoom Factor                         DS: [2.000000, 2.000000]\n",
       "   (0028, 0032) Zoom Center                         DS: [0.000000, 0.000000]\n",
       "   (0054, 0000) Group Length                        UL: 18\n",
       "   (0054, 0200) Start Angle                         DS: '180.0'\n",
       "   ---------\n",
       "(0054, 0400) Image ID                            SH: 'ANTERIOR'\n",
       "(0054, 0410)  Patient Orientation Code Sequence  1 item(s) ---- \n",
       "   (0008, 0000) Group Length                        UL: 48\n",
       "   (0008, 0100) Code Value                          SH: 'F-10450'\n",
       "   (0008, 0102) Coding Scheme Designator            SH: '99SDM'\n",
       "   (0008, 0104) Code Meaning                        LO: 'recumbent'\n",
       "   (0054, 0000) Group Length                        UL: 76\n",
       "   (0054, 0412)  Patient Orientation Modifier Code Sequence  1 item(s) ---- \n",
       "      (0008, 0000) Group Length                        UL: 44\n",
       "      (0008, 0100) Code Value                          SH: 'F-10340'\n",
       "      (0008, 0102) Coding Scheme Designator            SH: '99SDM'\n",
       "      (0008, 0104) Code Meaning                        LO: 'supine'\n",
       "      ---------\n",
       "   ---------\n",
       "(0054, 0414)  Patient Gantry Relationship Code Sequence  1 item(s) ---- \n",
       "   (0008, 0000) Group Length                        UL: 48\n",
       "   (0008, 0100) Code Value                          SH: 'F-10470'\n",
       "   (0008, 0102) Coding Scheme Designator            SH: '99SDM'\n",
       "   (0008, 0104) Code Meaning                        LO: 'headfirst'\n",
       "   ---------\n",
       "(7fe0, 0000) Group Length                        UL: 32780\n",
       "(7fe0, 0010) Pixel Data                          OW: Array of 32768 elements"
      ]
     },
     "execution_count": 80,
     "metadata": {},
     "output_type": "execute_result"
    }
   ],
   "source": [
    "ds"
   ]
  },
  {
   "cell_type": "code",
   "execution_count": null,
   "metadata": {},
   "outputs": [],
   "source": [
    "# Para verificarmos  a matriz da imagem utilizamos o pixel_array\n",
    "ds.pixel_array"
   ]
  },
  {
   "cell_type": "markdown",
   "metadata": {},
   "source": [
    "## <font color = green> ABERTURA DAS IMAGENS </font>"
   ]
  },
  {
   "cell_type": "markdown",
   "metadata": {},
   "source": [
    "### Salvando a matriz das imagens em duas listas que representam as classes "
   ]
  },
  {
   "cell_type": "code",
   "execution_count": 57,
   "metadata": {},
   "outputs": [],
   "source": [
    "bmt = []\n",
    "graves = []\n",
    "\n",
    "paths = glob.glob(\"CINTILOGRAFIAS/BMT/P*A/*.dcm\")\n",
    "for path in paths:\n",
    "    dataset = pydicom.dcmread(path)\n",
    "    bmt.append(dataset.pixel_array)\n",
    "    \n",
    "paths = glob.glob(\"CINTILOGRAFIAS/GRAVES/P*A/*.dcm\")\n",
    "for path in paths:\n",
    "    dataset = pydicom.dcmread(path)\n",
    "    graves.append(dataset.pixel_array)"
   ]
  },
  {
   "cell_type": "markdown",
   "metadata": {},
   "source": [
    "### Visualizacao"
   ]
  },
  {
   "cell_type": "code",
   "execution_count": 81,
   "metadata": {},
   "outputs": [
    {
     "data": {
      "text/plain": [
       "<matplotlib.image.AxesImage at 0x7ff286802710>"
      ]
     },
     "execution_count": 81,
     "metadata": {},
     "output_type": "execute_result"
    },
    {
     "data": {
      "image/png": "[encoded data removed]",
      "text/plain": [
       "<Figure size 432x288 with 1 Axes>"
      ]
     },
     "metadata": {
      "needs_background": "light"
     },
     "output_type": "display_data"
    }
   ],
   "source": [
    "plt.imshow(graves[0], cmap=plt.cm.bone) "
   ]
  },
  {
   "cell_type": "markdown",
   "metadata": {},
   "source": [
    "### Salvando a imagem em JPG"
   ]
  },
  {
   "cell_type": "code",
   "execution_count": 97,
   "metadata": {},
   "outputs": [
    {
     "ename": "IndexError",
     "evalue": "list index out of range",
     "output_type": "error",
     "traceback": [
      "\u001b[0;31m---------------------------------------------------------------------------\u001b[0m",
      "\u001b[0;31mIndexError\u001b[0m                                Traceback (most recent call last)",
      "\u001b[0;32m<ipython-input-97-cf027e053c39>\u001b[0m in \u001b[0;36m<module>\u001b[0;34m\u001b[0m\n\u001b[0;32m----> 1\u001b[0;31m \u001b[0mplt\u001b[0m\u001b[0;34m.\u001b[0m\u001b[0mimsave\u001b[0m\u001b[0;34m(\u001b[0m\u001b[0;34m'bmt06.png'\u001b[0m\u001b[0;34m,\u001b[0m \u001b[0mbmt\u001b[0m\u001b[0;34m[\u001b[0m\u001b[0;36m6\u001b[0m\u001b[0;34m]\u001b[0m\u001b[0;34m)\u001b[0m\u001b[0;34m\u001b[0m\u001b[0;34m\u001b[0m\u001b[0m\n\u001b[0m",
      "\u001b[0;31mIndexError\u001b[0m: list index out of range"
     ]
    }
   ],
   "source": [
    "plt.imsave('bmt06.png', bmt[6])"
   ]
  },
  {
   "cell_type": "markdown",
   "metadata": {},
   "source": [
    "## <font color = green> PRÉ-PROCESSAMENTO </font>"
   ]
  },
  {
   "cell_type": "markdown",
   "metadata": {},
   "source": [
    "### Segmentacao da regiao de interesse"
   ]
  },
  {
   "cell_type": "code",
   "execution_count": 170,
   "metadata": {},
   "outputs": [],
   "source": [
    "image = graves[5]\n",
    "\n",
    "altura, largura = int(image.shape[1] / 2), int(image.shape[0] / 2)\n",
    "\n",
    "inicio = int(altura/2)\n",
    "fim = int(image.shape[0] - inicio)\n",
    "\n",
    "cropped_image = image[inicio:fim, inicio:fim]"
   ]
  },
  {
   "cell_type": "code",
   "execution_count": 163,
   "metadata": {},
   "outputs": [
    {
     "data": {
      "text/plain": [
       "(0.0, 0.0)"
      ]
     },
     "execution_count": 163,
     "metadata": {},
     "output_type": "execute_result"
    }
   ],
   "source": [
    "x, y"
   ]
  },
  {
   "cell_type": "code",
   "execution_count": 164,
   "metadata": {},
   "outputs": [
    {
     "data": {
      "text/plain": [
       "(128, 128)"
      ]
     },
     "execution_count": 164,
     "metadata": {},
     "output_type": "execute_result"
    }
   ],
   "source": [
    "image.shape"
   ]
  },
  {
   "cell_type": "code",
   "execution_count": 165,
   "metadata": {},
   "outputs": [
    {
     "data": {
      "text/plain": [
       "(64.0, 64.0)"
      ]
     },
     "execution_count": 165,
     "metadata": {},
     "output_type": "execute_result"
    }
   ],
   "source": [
    "altura, largura"
   ]
  },
  {
   "cell_type": "code",
   "execution_count": 166,
   "metadata": {},
   "outputs": [
    {
     "data": {
      "text/plain": [
       "(64.0, 64.0)"
      ]
     },
     "execution_count": 166,
     "metadata": {},
     "output_type": "execute_result"
    }
   ],
   "source": [
    "centro_x, centro_y"
   ]
  },
  {
   "cell_type": "code",
   "execution_count": 144,
   "metadata": {},
   "outputs": [],
   "source": [
    "cropped_image"
   ]
  },
  {
   "cell_type": "markdown",
   "metadata": {},
   "source": [
    "### Threshold"
   ]
  },
  {
   "cell_type": "code",
   "execution_count": 175,
   "metadata": {},
   "outputs": [],
   "source": [
    "thresh = cv2.threshold(graves[5], 40, 255, cv2.THRESH_BINARY)[1]"
   ]
  },
  {
   "cell_type": "code",
   "execution_count": 177,
   "metadata": {},
   "outputs": [
    {
     "data": {
      "text/plain": [
       "<matplotlib.image.AxesImage at 0x7ff285e2c450>"
      ]
     },
     "execution_count": 177,
     "metadata": {},
     "output_type": "execute_result"
    },
    {
     "data": {
      "image/png": "[encoded data removed]",
      "text/plain": [
       "<Figure size 432x288 with 1 Axes>"
      ]
     },
     "metadata": {
      "needs_background": "light"
     },
     "output_type": "display_data"
    }
   ],
   "source": [
    "plt.imshow(thresh, cmap=plt.cm.bone) "
   ]
  },
  {
   "cell_type": "code",
   "execution_count": 179,
   "metadata": {},
   "outputs": [
    {
     "ename": "error",
     "evalue": "OpenCV(3.4.2) /tmp/build/80754af9/opencv-suite_1535558553474/work/modules/imgproc/src/contours.cpp:197: error: (-210:Unsupported format or combination of formats) [Start]FindContours supports only CV_8UC1 images when mode != CV_RETR_FLOODFILL otherwise supports CV_32SC1 images only in function 'cvStartFindContours_Impl'\n",
     "output_type": "error",
     "traceback": [
      "\u001b[0;31m---------------------------------------------------------------------------\u001b[0m",
      "\u001b[0;31merror\u001b[0m                                     Traceback (most recent call last)",
      "\u001b[0;32m<ipython-input-179-57f7cbee1879>\u001b[0m in \u001b[0;36m<module>\u001b[0;34m\u001b[0m\n\u001b[0;32m----> 1\u001b[0;31m \u001b[0mcnts\u001b[0m \u001b[0;34m=\u001b[0m \u001b[0mcv2\u001b[0m\u001b[0;34m.\u001b[0m\u001b[0mfindContours\u001b[0m\u001b[0;34m(\u001b[0m\u001b[0mthresh\u001b[0m\u001b[0;34m.\u001b[0m\u001b[0mcopy\u001b[0m\u001b[0;34m(\u001b[0m\u001b[0;34m)\u001b[0m\u001b[0;34m,\u001b[0m \u001b[0mcv2\u001b[0m\u001b[0;34m.\u001b[0m\u001b[0mRETR_EXTERNAL\u001b[0m\u001b[0;34m,\u001b[0m\u001b[0mcv2\u001b[0m\u001b[0;34m.\u001b[0m\u001b[0mCHAIN_APPROX_SIMPLE\u001b[0m\u001b[0;34m)\u001b[0m\u001b[0;34m\u001b[0m\u001b[0;34m\u001b[0m\u001b[0m\n\u001b[0m\u001b[1;32m      2\u001b[0m \u001b[0mcnts\u001b[0m \u001b[0;34m=\u001b[0m \u001b[0mimutils\u001b[0m\u001b[0;34m.\u001b[0m\u001b[0mgrab_contours\u001b[0m\u001b[0;34m(\u001b[0m\u001b[0mcnts\u001b[0m\u001b[0;34m)\u001b[0m\u001b[0;34m\u001b[0m\u001b[0;34m\u001b[0m\u001b[0m\n",
      "\u001b[0;31merror\u001b[0m: OpenCV(3.4.2) /tmp/build/80754af9/opencv-suite_1535558553474/work/modules/imgproc/src/contours.cpp:197: error: (-210:Unsupported format or combination of formats) [Start]FindContours supports only CV_8UC1 images when mode != CV_RETR_FLOODFILL otherwise supports CV_32SC1 images only in function 'cvStartFindContours_Impl'\n"
     ]
    }
   ],
   "source": [
    "cnts = cv2.findContours(thresh.copy(), cv2.RETR_EXTERNAL,cv2.CHAIN_APPROX_SIMPLE)\n",
    "cnts = imutils.grab_contours(cnts)"
   ]
  },
  {
   "cell_type": "markdown",
   "metadata": {},
   "source": [
    "### Reducao de ruido"
   ]
  },
  {
   "cell_type": "code",
   "execution_count": 100,
   "metadata": {},
   "outputs": [],
   "source": [
    "image = cv2.GaussianBlur(bmt[2], (5,5), 0)"
   ]
  },
  {
   "cell_type": "code",
   "execution_count": 101,
   "metadata": {},
   "outputs": [
    {
     "data": {
      "text/plain": [
       "<matplotlib.image.AxesImage at 0x7ff2866f2410>"
      ]
     },
     "execution_count": 101,
     "metadata": {},
     "output_type": "execute_result"
    },
    {
     "data": {
      "image/png": "[encoded data removed]",
      "text/plain": [
       "<Figure size 432x288 with 1 Axes>"
      ]
     },
     "metadata": {
      "needs_background": "light"
     },
     "output_type": "display_data"
    }
   ],
   "source": [
    "plt.imshow(image, cmap=plt.cm.bone) "
   ]
  },
  {
   "cell_type": "markdown",
   "metadata": {},
   "source": [
    "### Convertendo para HSV"
   ]
  },
  {
   "cell_type": "code",
   "execution_count": null,
   "metadata": {},
   "outputs": [],
   "source": []
  },
  {
   "cell_type": "code",
   "execution_count": 180,
   "metadata": {},
   "outputs": [
    {
     "ename": "error",
     "evalue": "OpenCV(3.4.2) /tmp/build/80754af9/opencv-suite_1535558553474/work/modules/imgproc/src/color.hpp:253: error: (-215:Assertion failed) VScn::contains(scn) && VDcn::contains(dcn) && VDepth::contains(depth) in function 'CvtHelper'\n",
     "output_type": "error",
     "traceback": [
      "\u001b[0;31m---------------------------------------------------------------------------\u001b[0m",
      "\u001b[0;31merror\u001b[0m                                     Traceback (most recent call last)",
      "\u001b[0;32m<ipython-input-180-f09eddbb61c5>\u001b[0m in \u001b[0;36m<module>\u001b[0;34m\u001b[0m\n\u001b[0;32m----> 1\u001b[0;31m \u001b[0mhsv_image\u001b[0m \u001b[0;34m=\u001b[0m \u001b[0mcv2\u001b[0m\u001b[0;34m.\u001b[0m\u001b[0mcvtColor\u001b[0m\u001b[0;34m(\u001b[0m\u001b[0mgraves\u001b[0m\u001b[0;34m[\u001b[0m\u001b[0;36m5\u001b[0m\u001b[0;34m]\u001b[0m\u001b[0;34m,\u001b[0m \u001b[0mcv2\u001b[0m\u001b[0;34m.\u001b[0m\u001b[0mCOLOR_BGR2HSV\u001b[0m\u001b[0;34m)\u001b[0m\u001b[0;34m\u001b[0m\u001b[0;34m\u001b[0m\u001b[0m\n\u001b[0m",
      "\u001b[0;31merror\u001b[0m: OpenCV(3.4.2) /tmp/build/80754af9/opencv-suite_1535558553474/work/modules/imgproc/src/color.hpp:253: error: (-215:Assertion failed) VScn::contains(scn) && VDcn::contains(dcn) && VDepth::contains(depth) in function 'CvtHelper'\n"
     ]
    }
   ],
   "source": [
    "hsv_image = cv2.cvtColor(graves[5], cv2.COLOR_BGR2HSV)"
   ]
  }
 ],
 "metadata": {
  "kernelspec": {
   "display_name": "Python 3",
   "language": "python",
   "name": "python3"
  },
  "language_info": {
   "codemirror_mode": {
    "name": "ipython",
    "version": 3
   },
   "file_extension": ".py",
   "mimetype": "text/x-python",
   "name": "python",
   "nbconvert_exporter": "python",
   "pygments_lexer": "ipython3",
   "version": "3.7.9"
  }
 },
 "nbformat": 4,
 "nbformat_minor": 4
}
